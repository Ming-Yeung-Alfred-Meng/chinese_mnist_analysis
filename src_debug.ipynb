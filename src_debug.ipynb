{
 "cells": [
  {
   "cell_type": "code",
   "execution_count": 1,
   "metadata": {},
   "outputs": [
    {
     "name": "stderr",
     "output_type": "stream",
     "text": [
      "2023-04-19 16:58:54.688882: I tensorflow/core/platform/cpu_feature_guard.cc:193] This TensorFlow binary is optimized with oneAPI Deep Neural Network Library (oneDNN) to use the following CPU instructions in performance-critical operations:  AVX2 FMA\n",
      "To enable them in other operations, rebuild TensorFlow with the appropriate compiler flags.\n"
     ]
    }
   ],
   "source": [
    "import scripts\n",
    "import tensorflow as tf\n",
    "import importlib"
   ]
  },
  {
   "cell_type": "code",
   "execution_count": 3,
   "metadata": {},
   "outputs": [
    {
     "data": {
      "text/plain": [
       "<module 'scripts' from '/Users/alfred/Documents/chinese_mnist_analysis/scripts.py'>"
      ]
     },
     "execution_count": 3,
     "metadata": {},
     "output_type": "execute_result"
    }
   ],
   "source": [
    "importlib.reload(scripts)"
   ]
  },
  {
   "attachments": {},
   "cell_type": "markdown",
   "metadata": {},
   "source": [
    "# Solving Chinese MNIST using Transfer Learning"
   ]
  },
  {
   "attachments": {},
   "cell_type": "markdown",
   "metadata": {},
   "source": [
    "## Some Hyperparameters"
   ]
  },
  {
   "cell_type": "code",
   "execution_count": 4,
   "metadata": {},
   "outputs": [],
   "source": [
    "NUMBER_OF_CLASSES = 15\n",
    "IMAGE_SIZE = (64, 64)\n",
    "IMAGE_SHAPE = IMAGE_SIZE + (3,)\n",
    "\n",
    "CLASSIFIER_LEARNING_RATE = 0.0001\n",
    "CLASSIFIER_NUMBER_OF_EPOCHS = 1\n",
    "BATCH_SIZE = 1\n",
    "OPTIMIZER = tf.keras.optimizers.Adam\n",
    "LOSS_MEASURE = tf.keras.losses.SparseCategoricalCrossentropy"
   ]
  },
  {
   "attachments": {},
   "cell_type": "markdown",
   "metadata": {},
   "source": [
    "## Dataloaders"
   ]
  },
  {
   "cell_type": "code",
   "execution_count": 5,
   "metadata": {},
   "outputs": [
    {
     "name": "stdout",
     "output_type": "stream",
     "text": [
      "Found 15 files belonging to 15 classes.\n"
     ]
    },
    {
     "name": "stderr",
     "output_type": "stream",
     "text": [
      "2023-04-19 17:14:53.713542: I tensorflow/core/platform/cpu_feature_guard.cc:193] This TensorFlow binary is optimized with oneAPI Deep Neural Network Library (oneDNN) to use the following CPU instructions in performance-critical operations:  AVX2 FMA\n",
      "To enable them in other operations, rebuild TensorFlow with the appropriate compiler flags.\n"
     ]
    },
    {
     "name": "stdout",
     "output_type": "stream",
     "text": [
      "Found 15 files belonging to 15 classes.\n",
      "Found 15 files belonging to 15 classes.\n",
      "Found 15 files belonging to 15 classes.\n"
     ]
    }
   ],
   "source": [
    "small_training_dataloader = tf.keras.utils.image_dataset_from_directory(\"./debug_dataset/\",\n",
    "                                                                        batch_size=BATCH_SIZE,\n",
    "                                                                        image_size=IMAGE_SIZE,\n",
    "                                                                        seed=413)\n",
    "medium_training_dataloader = tf.keras.utils.image_dataset_from_directory(\"./debug_dataset/\",\n",
    "                                                                         batch_size=BATCH_SIZE,\n",
    "                                                                         image_size=IMAGE_SIZE,\n",
    "                                                                         seed=413)\n",
    "large_training_dataloader = tf.keras.utils.image_dataset_from_directory(\"./debug_dataset/\",\n",
    "                                                                        batch_size=BATCH_SIZE,\n",
    "                                                                        image_size=IMAGE_SIZE,\n",
    "                                                                        seed=413)\n",
    "validation_dataloader = tf.keras.utils.image_dataset_from_directory(\"./debug_dataset/\",\n",
    "                                                                    batch_size=BATCH_SIZE,\n",
    "                                                                    image_size=IMAGE_SIZE,\n",
    "                                                                    seed=413)"
   ]
  },
  {
   "attachments": {},
   "cell_type": "markdown",
   "metadata": {},
   "source": [
    "### Take a Peek"
   ]
  },
  {
   "cell_type": "code",
   "execution_count": 6,
   "metadata": {},
   "outputs": [],
   "source": [
    "# scripts.peek_into_dataloader(debug_dataloader)"
   ]
  },
  {
   "attachments": {},
   "cell_type": "markdown",
   "metadata": {},
   "source": [
    "### Cache and Prefetch"
   ]
  },
  {
   "cell_type": "code",
   "execution_count": 7,
   "metadata": {},
   "outputs": [],
   "source": [
    "small_training_dataloader = small_training_dataloader.cache().prefetch(buffer_size=tf.data.AUTOTUNE)\n",
    "medium_training_dataloader = medium_training_dataloader.cache().prefetch(buffer_size=tf.data.AUTOTUNE)\n",
    "large_training_dataloader = large_training_dataloader.cache().prefetch(buffer_size=tf.data.AUTOTUNE)\n",
    "validation_dataloader = validation_dataloader.cache().prefetch(buffer_size=tf.data.AUTOTUNE)"
   ]
  },
  {
   "attachments": {},
   "cell_type": "markdown",
   "metadata": {},
   "source": [
    "### Pre-Trained Base Models\n",
    "The models expect inputs to be in the range [0, 255]."
   ]
  },
  {
   "cell_type": "code",
   "execution_count": 8,
   "metadata": {},
   "outputs": [],
   "source": [
    "pretrained_efficientnet_to_fine_tune_with_small_dataset = tf.keras.applications.EfficientNetV2S(include_top=False, input_shape=IMAGE_SHAPE) \n",
    "pretrained_efficientnet_to_fine_tune_with_medium_dataset = tf.keras.applications.EfficientNetV2S(include_top=False, input_shape=IMAGE_SHAPE)\n",
    "pretrained_efficientnet_to_fine_tune_with_large_dataset = tf.keras.applications.EfficientNetV2S(include_top=False, input_shape=IMAGE_SHAPE)"
   ]
  },
  {
   "attachments": {},
   "cell_type": "markdown",
   "metadata": {},
   "source": [
    "### Full Models\n",
    "Adding our own classifiers."
   ]
  },
  {
   "cell_type": "code",
   "execution_count": 9,
   "metadata": {},
   "outputs": [],
   "source": [
    "pretrained_efficientnet_to_fine_tune_with_small_dataset = scripts.add_classifier(pretrained_efficientnet_to_fine_tune_with_small_dataset, IMAGE_SHAPE, NUMBER_OF_CLASSES)\n",
    "pretrained_efficientnet_to_fine_tune_with_medium_dataset = scripts.add_classifier(pretrained_efficientnet_to_fine_tune_with_medium_dataset, IMAGE_SHAPE, NUMBER_OF_CLASSES)\n",
    "pretrained_efficientnet_to_fine_tune_with_large_dataset = scripts.add_classifier(pretrained_efficientnet_to_fine_tune_with_large_dataset, IMAGE_SHAPE, NUMBER_OF_CLASSES)"
   ]
  },
  {
   "attachments": {},
   "cell_type": "markdown",
   "metadata": {},
   "source": [
    "### Inspection"
   ]
  },
  {
   "cell_type": "code",
   "execution_count": 10,
   "metadata": {},
   "outputs": [
    {
     "name": "stdout",
     "output_type": "stream",
     "text": [
      "Number of layers in the efficientnet base model: 513\n"
     ]
    }
   ],
   "source": [
    "print(\"Number of layers in the efficientnet base model: {}\".format(len(pretrained_efficientnet_to_fine_tune_with_small_dataset.layers[1].layers)))"
   ]
  },
  {
   "cell_type": "code",
   "execution_count": 11,
   "metadata": {},
   "outputs": [
    {
     "name": "stdout",
     "output_type": "stream",
     "text": [
      "Model: \"model\"\n",
      "_________________________________________________________________\n",
      " Layer (type)                Output Shape              Param #   \n",
      "=================================================================\n",
      " input_4 (InputLayer)        [(None, 64, 64, 3)]       0         \n",
      "                                                                 \n",
      " efficientnetv2-s (Functiona  (None, 2, 2, 1280)       20331360  \n",
      " l)                                                              \n",
      "                                                                 \n",
      " flatten (Flatten)           (None, 5120)              0         \n",
      "                                                                 \n",
      " dense_1 (Dense)             (None, 1024)              5243904   \n",
      "                                                                 \n",
      " dropout (Dropout)           (None, 1024)              0         \n",
      "                                                                 \n",
      " dense (Dense)               (None, 15)                15375     \n",
      "                                                                 \n",
      "=================================================================\n",
      "Total params: 25,590,639\n",
      "Trainable params: 25,436,767\n",
      "Non-trainable params: 153,872\n",
      "_________________________________________________________________\n"
     ]
    }
   ],
   "source": [
    "pretrained_efficientnet_to_fine_tune_with_small_dataset.summary()"
   ]
  },
  {
   "attachments": {},
   "cell_type": "markdown",
   "metadata": {},
   "source": [
    "## Training the Classifiers"
   ]
  },
  {
   "cell_type": "code",
   "execution_count": 12,
   "metadata": {},
   "outputs": [
    {
     "name": "stdout",
     "output_type": "stream",
     "text": [
      "Number of trainable parameters before freezing the base model: 25436767\n",
      "Number of trainable parameters after freezing the base model: 5259279\n",
      "15/15 [==============================] - 26s 480ms/step - loss: 3.2190 - accuracy: 0.0667 - val_loss: 2.0658 - val_accuracy: 0.5333\n"
     ]
    }
   ],
   "source": [
    "history_of_training_classifier_with_small_dataset = scripts.train_classifier(pretrained_efficientnet_to_fine_tune_with_small_dataset, \n",
    "                                                                             small_training_dataloader,\n",
    "                                                                             validation_dataloader,\n",
    "                                                                             CLASSIFIER_NUMBER_OF_EPOCHS,\n",
    "                                                                             OPTIMIZER,\n",
    "                                                                             CLASSIFIER_LEARNING_RATE,\n",
    "                                                                             LOSS_MEASURE,\n",
    "                                                                             True,\n",
    "                                                                             [\"accuracy\"])"
   ]
  },
  {
   "cell_type": "code",
   "execution_count": 13,
   "metadata": {},
   "outputs": [
    {
     "name": "stdout",
     "output_type": "stream",
     "text": [
      "Number of trainable parameters before freezing the base model: 25436767\n",
      "Number of trainable parameters after freezing the base model: 5259279\n",
      "15/15 [==============================] - 26s 517ms/step - loss: 3.4116 - accuracy: 0.0000e+00 - val_loss: 2.1160 - val_accuracy: 0.4667\n"
     ]
    }
   ],
   "source": [
    "history_of_training_classifier_with_medium_dataset = scripts.train_classifier(pretrained_efficientnet_to_fine_tune_with_medium_dataset, \n",
    "                                                                              medium_training_dataloader,\n",
    "                                                                              validation_dataloader,\n",
    "                                                                              CLASSIFIER_NUMBER_OF_EPOCHS,\n",
    "                                                                              OPTIMIZER,\n",
    "                                                                              CLASSIFIER_LEARNING_RATE,\n",
    "                                                                              LOSS_MEASURE,\n",
    "                                                                              True,\n",
    "                                                                              [\"accuracy\"])"
   ]
  },
  {
   "cell_type": "code",
   "execution_count": 14,
   "metadata": {},
   "outputs": [
    {
     "name": "stdout",
     "output_type": "stream",
     "text": [
      "Number of trainable parameters before freezing the base model: 25436767\n",
      "Number of trainable parameters after freezing the base model: 5259279\n",
      "15/15 [==============================] - 26s 524ms/step - loss: 3.3449 - accuracy: 0.0000e+00 - val_loss: 2.1250 - val_accuracy: 0.5333\n"
     ]
    }
   ],
   "source": [
    "history_of_training_classifier_with_large_dataset = scripts.train_classifier(pretrained_efficientnet_to_fine_tune_with_large_dataset, \n",
    "                                                                             large_training_dataloader,\n",
    "                                                                             validation_dataloader,\n",
    "                                                                             CLASSIFIER_NUMBER_OF_EPOCHS,\n",
    "                                                                             OPTIMIZER,\n",
    "                                                                             CLASSIFIER_LEARNING_RATE,\n",
    "                                                                             LOSS_MEASURE,\n",
    "                                                                             True,\n",
    "                                                                             [\"accuracy\"])"
   ]
  },
  {
   "attachments": {},
   "cell_type": "markdown",
   "metadata": {},
   "source": [
    "## Fine-Tuning the Entire Models\n",
    "\n",
    "Only fine tune after the classifier have been trained."
   ]
  },
  {
   "attachments": {},
   "cell_type": "markdown",
   "metadata": {},
   "source": [
    "### Some Hyperparameters"
   ]
  },
  {
   "cell_type": "code",
   "execution_count": 15,
   "metadata": {},
   "outputs": [],
   "source": [
    "FINE_TUNING_LEARNING_RATE = CLASSIFIER_LEARNING_RATE / 10\n",
    "FINE_TUNING_NUMBER_OF_EPOCHS = 1\n",
    "TOTAL_NUMBER_OF_EPOCHS = CLASSIFIER_NUMBER_OF_EPOCHS + FINE_TUNING_NUMBER_OF_EPOCHS\n",
    "NUMBER_OF_LAYERS_TO_FREEZE = 100"
   ]
  },
  {
   "cell_type": "code",
   "execution_count": 16,
   "metadata": {},
   "outputs": [
    {
     "name": "stdout",
     "output_type": "stream",
     "text": [
      "Number of trainable parameters after unfreezing the entire base model: 25436767\n",
      "Number of trainable parameters after freezing the first 100 layers of the base model: 24228183\n",
      "Epoch 1/2\n",
      "15/15 [==============================] - 66s 689ms/step - loss: 2.1223 - accuracy: 0.4667 - val_loss: 1.7302 - val_accuracy: 0.5333\n",
      "Epoch 2/2\n",
      "15/15 [==============================] - 5s 347ms/step - loss: 1.7948 - accuracy: 0.4667 - val_loss: 1.4293 - val_accuracy: 0.7333\n"
     ]
    }
   ],
   "source": [
    "history_of_fine_tuning_with_small_dataset = scripts.fine_tune(pretrained_efficientnet_to_fine_tune_with_small_dataset,\n",
    "                                                              NUMBER_OF_LAYERS_TO_FREEZE,\n",
    "                                                              history_of_training_classifier_with_small_dataset,\n",
    "                                                              small_training_dataloader,\n",
    "                                                              validation_dataloader,\n",
    "                                                              TOTAL_NUMBER_OF_EPOCHS,\n",
    "                                                              OPTIMIZER,\n",
    "                                                              FINE_TUNING_LEARNING_RATE,\n",
    "                                                              LOSS_MEASURE,\n",
    "                                                              True,\n",
    "                                                              [\"accuracy\"])"
   ]
  },
  {
   "cell_type": "code",
   "execution_count": 19,
   "metadata": {},
   "outputs": [
    {
     "name": "stdout",
     "output_type": "stream",
     "text": [
      "Number of trainable parameters after unfreezing the entire base model: 25436767\n",
      "Number of trainable parameters after freezing the first 100 layers of the base model: 24228183\n",
      "Epoch 1/2\n",
      "15/15 [==============================] - 77s 935ms/step - loss: 1.6883 - accuracy: 0.6000 - val_loss: 1.2311 - val_accuracy: 0.7333\n",
      "Epoch 2/2\n",
      "15/15 [==============================] - 7s 476ms/step - loss: 1.2111 - accuracy: 0.8000 - val_loss: 0.9229 - val_accuracy: 1.0000\n"
     ]
    }
   ],
   "source": [
    "history_of_fine_tuning_with_medium_dataset = scripts.fine_tune(pretrained_efficientnet_to_fine_tune_with_medium_dataset,\n",
    "                                                               NUMBER_OF_LAYERS_TO_FREEZE,\n",
    "                                                               history_of_training_classifier_with_medium_dataset,\n",
    "                                                               medium_training_dataloader,\n",
    "                                                               validation_dataloader,\n",
    "                                                               TOTAL_NUMBER_OF_EPOCHS,\n",
    "                                                               OPTIMIZER,\n",
    "                                                               FINE_TUNING_LEARNING_RATE,\n",
    "                                                               LOSS_MEASURE,\n",
    "                                                               True,\n",
    "                                                               [\"accuracy\"])"
   ]
  },
  {
   "cell_type": "code",
   "execution_count": 18,
   "metadata": {},
   "outputs": [
    {
     "name": "stdout",
     "output_type": "stream",
     "text": [
      "Number of trainable parameters after unfreezing the entire base model: 25436767\n",
      "Number of trainable parameters after freezing the first 100 layers of the base model: 24228183\n",
      "Epoch 1/2\n",
      "15/15 [==============================] - 89s 994ms/step - loss: 2.1450 - accuracy: 0.4667 - val_loss: 1.8377 - val_accuracy: 0.6000\n",
      "Epoch 2/2\n",
      "15/15 [==============================] - 6s 394ms/step - loss: 1.7731 - accuracy: 0.5333 - val_loss: 1.5068 - val_accuracy: 0.7333\n"
     ]
    }
   ],
   "source": [
    "history_of_fine_tuning_with_large_dataset = scripts.fine_tune(pretrained_efficientnet_to_fine_tune_with_large_dataset,\n",
    "                                                              NUMBER_OF_LAYERS_TO_FREEZE,\n",
    "                                                              history_of_training_classifier_with_large_dataset,\n",
    "                                                              large_training_dataloader,\n",
    "                                                              validation_dataloader,\n",
    "                                                              TOTAL_NUMBER_OF_EPOCHS,\n",
    "                                                              OPTIMIZER,\n",
    "                                                              FINE_TUNING_LEARNING_RATE,\n",
    "                                                              LOSS_MEASURE,\n",
    "                                                              True,\n",
    "                                                              [\"accuracy\"])"
   ]
  },
  {
   "attachments": {},
   "cell_type": "markdown",
   "metadata": {},
   "source": [
    "## Results"
   ]
  },
  {
   "cell_type": "code",
   "execution_count": null,
   "metadata": {},
   "outputs": [],
   "source": []
  }
 ],
 "metadata": {
  "kernelspec": {
   "display_name": "csc413",
   "language": "python",
   "name": "python3"
  },
  "language_info": {
   "codemirror_mode": {
    "name": "ipython",
    "version": 3
   },
   "file_extension": ".py",
   "mimetype": "text/x-python",
   "name": "python",
   "nbconvert_exporter": "python",
   "pygments_lexer": "ipython3",
   "version": "3.10.9"
  },
  "orig_nbformat": 4
 },
 "nbformat": 4,
 "nbformat_minor": 2
}
