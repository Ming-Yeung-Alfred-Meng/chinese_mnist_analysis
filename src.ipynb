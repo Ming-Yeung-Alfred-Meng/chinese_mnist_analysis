{
 "cells": [
  {
   "cell_type": "code",
   "execution_count": null,
   "metadata": {},
   "outputs": [],
   "source": [
    "import scripts\n",
    "import tensorflow as tf\n",
    "import importlib"
   ]
  },
  {
   "cell_type": "code",
   "execution_count": null,
   "metadata": {},
   "outputs": [],
   "source": [
    "importlib.reload(scripts)"
   ]
  },
  {
   "attachments": {},
   "cell_type": "markdown",
   "metadata": {},
   "source": [
    "### Some Hyperparameters"
   ]
  },
  {
   "cell_type": "code",
   "execution_count": null,
   "metadata": {},
   "outputs": [],
   "source": [
    "NUMBER_OF_CLASSES = 15\n",
    "IMAGE_SIZE = (64, 64)\n",
    "IMAGE_SHAPE = IMAGE_SIZE + (3,)\n",
    "\n",
    "CLASSIFIER_LEARNING_RATE = 0.0001\n",
    "CLASSFIER_NUMBER_OF_EPOCHS = 10\n",
    "BATCH_SIZE = 32\n",
    "OPTIMIZER = tf.keras.optimizers.Adam\n",
    "LOSS_MEASURE = tf.keras.losses.SparseCategoricalCrossentropy"
   ]
  },
  {
   "attachments": {},
   "cell_type": "markdown",
   "metadata": {},
   "source": [
    "## Dataloaders"
   ]
  },
  {
   "cell_type": "code",
   "execution_count": null,
   "metadata": {},
   "outputs": [],
   "source": [
    "small_training_dataloader = tf.keras.utils.image_dataset_from_directory(\"./small_training_dataset/\",\n",
    "                                                                        batch_size=BATCH_SIZE,\n",
    "                                                                        image_size=IMAGE_SIZE,\n",
    "                                                                        seed=413)\n",
    "medium_training_dataloader = tf.keras.utils.image_dataset_from_directory(\"./medium_training_dataset/\",\n",
    "                                                                         batch_size=BATCH_SIZE,\n",
    "                                                                         image_size=IMAGE_SIZE,\n",
    "                                                                         seed=413)\n",
    "large_training_dataloader = tf.keras.utils.image_dataset_from_directory(\"./large_training_dataset/\",\n",
    "                                                                        batch_size=BATCH_SIZE,\n",
    "                                                                        image_size=IMAGE_SIZE,\n",
    "                                                                        seed=413)\n",
    "validation_dataloader = tf.keras.utils.image_dataset_from_directory(\"./validation_dataset/\",\n",
    "                                                                    batch_size=BATCH_SIZE,\n",
    "                                                                    image_size=IMAGE_SIZE,\n",
    "                                                                    seed=413)"
   ]
  },
  {
   "attachments": {},
   "cell_type": "markdown",
   "metadata": {},
   "source": [
    "## Take a Peek"
   ]
  },
  {
   "cell_type": "code",
   "execution_count": null,
   "metadata": {},
   "outputs": [],
   "source": [
    "scripts.peek_into_dataloader(small_training_dataloader)"
   ]
  },
  {
   "cell_type": "code",
   "execution_count": null,
   "metadata": {},
   "outputs": [],
   "source": [
    "small_training_dataloader = small_training_dataloader.cache().prefetch(buffer_size=tf.data.AUTOTUNE)\n",
    "medium_training_dataloader = medium_training_dataloader.cache().prefetch(buffer_size=tf.data.AUTOTUNE)\n",
    "large_training_dataloader = large_training_dataloader.cache().prefetch(buffer_size=tf.data.AUTOTUNE)\n",
    "validation_dataloader = validation_dataloader.cache().prefetch(buffer_size=tf.data.AUTOTUNE)"
   ]
  },
  {
   "attachments": {},
   "cell_type": "markdown",
   "metadata": {},
   "source": [
    "## Training a Classifier"
   ]
  },
  {
   "attachments": {},
   "cell_type": "markdown",
   "metadata": {},
   "source": [
    "### Base Models"
   ]
  },
  {
   "cell_type": "code",
   "execution_count": null,
   "metadata": {},
   "outputs": [],
   "source": [
    "small_efficientnet_base_model = tf.keras.applications.EfficientNetV2S(include_top=False, input_shape=IMAGE_SHAPE) # expects an input to be in the range [0, 255].\n",
    "medium_efficientnet_base_model = tf.keras.applications.EfficientNetV2M(include_top=False, input_shape=IMAGE_SHAPE)\n",
    "large_efficientnet_base_model = tf.keras.applications.EfficientNetV2L(include_top=False, input_shape=IMAGE_SHAPE)"
   ]
  },
  {
   "attachments": {},
   "cell_type": "markdown",
   "metadata": {},
   "source": [
    "### Freeze Pre-Trained Weights"
   ]
  },
  {
   "cell_type": "code",
   "execution_count": null,
   "metadata": {},
   "outputs": [],
   "source": [
    "small_efficientnet_base_model.trainable = False\n",
    "medium_efficientnet_base_model.trainable = False\n",
    "large_efficientnet_base_model.trainable = False"
   ]
  },
  {
   "attachments": {},
   "cell_type": "markdown",
   "metadata": {},
   "source": [
    "### Full Models"
   ]
  },
  {
   "cell_type": "code",
   "execution_count": null,
   "metadata": {},
   "outputs": [],
   "source": [
    "small_efficientnet = scripts.add_classifier(small_efficientnet_base_model, IMAGE_SHAPE, NUMBER_OF_CLASSES)\n",
    "medium_efficientnet = scripts.add_classifier(medium_efficientnet_base_model, IMAGE_SHAPE, NUMBER_OF_CLASSES)\n",
    "large_efficientnet = scripts.add_classifier(large_efficientnet_base_model, IMAGE_SHAPE, NUMBER_OF_CLASSES)"
   ]
  },
  {
   "cell_type": "code",
   "execution_count": null,
   "metadata": {},
   "outputs": [],
   "source": [
    "small_efficientnet.compile(optimizer=OPTIMIZER(learning_rate=CLASSIFIER_LEARNING_RATE), loss=LOSS_MEASURE(from_logits=True),\n",
    "                           metrics=['accuracy'])\n",
    "medium_efficientnet.compile(optimizer=OPTIMIZER(learning_rate=CLASSIFIER_LEARNING_RATE), loss=LOSS_MEASURE(from_logits=True),\n",
    "                            metrics=['accuracy'])\n",
    "large_efficientnet.compile(optimizer=OPTIMIZER(learning_rate=CLASSIFIER_LEARNING_RATE), loss=LOSS_MEASURE(from_logits=True),\n",
    "                           metrics=['accuracy'])"
   ]
  },
  {
   "attachments": {},
   "cell_type": "markdown",
   "metadata": {},
   "source": [
    "### Inspection"
   ]
  },
  {
   "cell_type": "code",
   "execution_count": null,
   "metadata": {},
   "outputs": [],
   "source": [
    "print(\"Number of layers in the small efficientnet model: {}\".format(len(small_efficientnet.layers)))\n",
    "print(\"Number of layers in the medium efficientnet model: {}\".format(len(medium_efficientnet.layers)))\n",
    "print(\"Number of layers in the large efficientnet model: {}\".format(len(large_efficientnet.layers)))"
   ]
  },
  {
   "cell_type": "code",
   "execution_count": null,
   "metadata": {},
   "outputs": [],
   "source": [
    "small_efficientnet.summary()"
   ]
  },
  {
   "cell_type": "code",
   "execution_count": null,
   "metadata": {},
   "outputs": [],
   "source": [
    "medium_efficientnet.summary()"
   ]
  },
  {
   "cell_type": "code",
   "execution_count": null,
   "metadata": {},
   "outputs": [],
   "source": [
    "large_efficientnet.summary()"
   ]
  },
  {
   "attachments": {},
   "cell_type": "markdown",
   "metadata": {},
   "source": [
    "### Training the Classifiers"
   ]
  },
  {
   "cell_type": "code",
   "execution_count": null,
   "metadata": {},
   "outputs": [],
   "source": [
    "small_efficientnet_classifier_history = small_efficientnet.fit(small_training_dataloader,\n",
    "                                                               epochs=CLASSFIER_NUMBER_OF_EPOCHS,\n",
    "                                                               validation_data=validation_dataloader)"
   ]
  },
  {
   "cell_type": "code",
   "execution_count": null,
   "metadata": {},
   "outputs": [],
   "source": [
    "medium_efficientnet_classifier_history = medium_efficientnet.fit(small_training_dataloader,\n",
    "                                                                 epochs=CLASSFIER_NUMBER_OF_EPOCHS,\n",
    "                                                                 validation_data=validation_dataloader)"
   ]
  },
  {
   "cell_type": "code",
   "execution_count": null,
   "metadata": {},
   "outputs": [],
   "source": [
    "large_efficientnet_classifier_history = large_efficientnet.fit(small_training_dataloader, \n",
    "                                                    epochs=CLASSFIER_NUMBER_OF_EPOCHS,\n",
    "                                                    validation_data=validation_dataloader)"
   ]
  },
  {
   "attachments": {},
   "cell_type": "markdown",
   "metadata": {},
   "source": [
    "### Learning Curves"
   ]
  },
  {
   "cell_type": "code",
   "execution_count": null,
   "metadata": {},
   "outputs": [],
   "source": [
    "scripts.accuracies(small_efficientnet_classifier_history, \"Small EfficientNet Training and Validation Accuracy\")\n",
    "scripts.accuracies(medium_efficientnet_classifier_history, \"Medium EfficientNet Training and Validation Accuracy\")\n",
    "scripts.accuracies(large_efficientnet_classifier_history, \"Large EfficientNet Training and Validation Accuracy\")\n",
    "scripts.losses(small_efficientnet_classifier_history, \"Small EfficientNet Training and Validation Loss\")\n",
    "scripts.losses(medium_efficientnet_classifier_history, \"Medium EfficientNet Training and Validation Loss\")\n",
    "scripts.losses(large_efficientnet_classifier_history, \"Large EfficientNet Training and Validation Loss\")"
   ]
  },
  {
   "attachments": {},
   "cell_type": "markdown",
   "metadata": {},
   "source": [
    "## Fine-Tuning\n",
    "\n",
    "Only fine tune after the classifer have been trained."
   ]
  },
  {
   "attachments": {},
   "cell_type": "markdown",
   "metadata": {},
   "source": [
    "### Some Hyperparameters"
   ]
  },
  {
   "cell_type": "code",
   "execution_count": null,
   "metadata": {},
   "outputs": [],
   "source": [
    "FINE_TUNING_LEARNING_RATE = CLASSIFIER_LEARNING_RATE / 10\n",
    "FINE_TUNING_NUMBER_OF_EPOCHS = 10\n",
    "TOTAL_NUMBER_OF_EPOCHS = CLASSFIER_NUMBER_OF_EPOCHS + FINE_TUNING_NUMBER_OF_EPOCHS\n",
    "NUMBER_OF_LAYERS_TO_FREEZE = []"
   ]
  },
  {
   "attachments": {},
   "cell_type": "markdown",
   "metadata": {},
   "source": [
    "### Unfreeze All"
   ]
  },
  {
   "cell_type": "code",
   "execution_count": null,
   "metadata": {},
   "outputs": [],
   "source": [
    "small_efficientnet_base_model.trainable = True\n",
    "medium_efficientnet_base_model.trainable = True\n",
    "large_efficientnet_base_model.trainable = True"
   ]
  },
  {
   "attachments": {},
   "cell_type": "markdown",
   "metadata": {},
   "source": [
    "### Freeze a Selected Number of Layers"
   ]
  },
  {
   "cell_type": "code",
   "execution_count": null,
   "metadata": {},
   "outputs": [],
   "source": [
    "for number_of_layer_to_freeze in NUMBER_OF_LAYERS_TO_FREEZE:\n",
    "    scripts.freeze(small_efficientnet_base_model, number_of_layer_to_freeze)\n",
    "    scripts.freeze(medium_efficientnet_base_model, number_of_layer_to_freeze)\n",
    "    scripts.freeze(large_efficientnet_base_model, number_of_layer_to_freeze)"
   ]
  },
  {
   "cell_type": "code",
   "execution_count": null,
   "metadata": {},
   "outputs": [],
   "source": [
    "small_efficientnet.compile(optimizer=OPTIMIZER(learning_rate=FINE_TUNING_LEARNING_RATE), loss=LOSS_MEASURE(from_logits=True),\n",
    "                           metrics=['accuracy'])\n",
    "medium_efficientnet.compile(optimizer=OPTIMIZER(learning_rate=FINE_TUNING_LEARNING_RATE), loss=LOSS_MEASURE(from_logits=True),\n",
    "                            metrics=['accuracy'])\n",
    "large_efficientnet.compile(optimizer=OPTIMIZER(learning_rate=FINE_TUNING_LEARNING_RATE), loss=LOSS_MEASURE(from_logits=True),\n",
    "                           metrics=['accuracy'])"
   ]
  },
  {
   "attachments": {},
   "cell_type": "markdown",
   "metadata": {},
   "source": [
    "### Inspection"
   ]
  },
  {
   "cell_type": "code",
   "execution_count": null,
   "metadata": {},
   "outputs": [],
   "source": [
    "small_efficientnet.summary()"
   ]
  },
  {
   "cell_type": "code",
   "execution_count": null,
   "metadata": {},
   "outputs": [],
   "source": [
    "medium_efficientnet.summary()"
   ]
  },
  {
   "cell_type": "code",
   "execution_count": null,
   "metadata": {},
   "outputs": [],
   "source": [
    "large_efficientnet.summary()"
   ]
  },
  {
   "attachments": {},
   "cell_type": "markdown",
   "metadata": {},
   "source": [
    "### Training"
   ]
  },
  {
   "cell_type": "code",
   "execution_count": null,
   "metadata": {},
   "outputs": [],
   "source": [
    "small_efficientnet_fine_tune_history = small_efficientnet.fit(train_dataset,\n",
    "                                                             epochs=TOTAL_NUMBER_OF_EPOCHS,\n",
    "                                                             initial_epoch=small_efficientnet_classifier_history.epoch[-1],\n",
    "                                                             validation_data=validation_dataset)"
   ]
  },
  {
   "cell_type": "code",
   "execution_count": null,
   "metadata": {},
   "outputs": [],
   "source": [
    "medium_efficientnet_fine_tune_history = medium_efficientnet.fit(train_dataset,\n",
    "                                                               epochs=TOTAL_NUMBER_OF_EPOCHS,\n",
    "                                                               initial_epoch=medium_efficientnet_classifier_history.epoch[-1],\n",
    "                                                               validation_data=validation_dataset)"
   ]
  },
  {
   "cell_type": "code",
   "execution_count": null,
   "metadata": {},
   "outputs": [],
   "source": [
    "large_efficientnet_fine_tune_history = large_efficientnet.fit(train_dataset,\n",
    "                                                              epochs=TOTAL_NUMBER_OF_EPOCHS,\n",
    "                                                              initial_epoch=large_efficientnet_classifier_history.epoch[-1],\n",
    "                                                              validation_data=validation_dataset)"
   ]
  },
  {
   "attachments": {},
   "cell_type": "markdown",
   "metadata": {},
   "source": [
    "### Learning Curves"
   ]
  },
  {
   "cell_type": "code",
   "execution_count": null,
   "metadata": {},
   "outputs": [],
   "source": [
    "scripts.accuracies_after_fine_tuning(small_efficientnet_classifier_history,\n",
    "                                     small_efficientnet_fine_tune_history,\n",
    "                                     CLASSFIER_NUMBER_OF_EPOCHS,\n",
    "                                     \"Small EfficientNet Training and Validation Accuracy With Fine-Tuning\")\n",
    "scripts.accuracies_after_fine_tuning(medium_efficientnet_classifier_history,\n",
    "                                     medium_efficientnet_fine_tune_history,\n",
    "                                     CLASSFIER_NUMBER_OF_EPOCHS,\n",
    "                                     \"Medium EfficientNet Training and Validation Accuracy With Fine-Tuning\")\n",
    "scripts.accuracies_after_fine_tuning(large_efficientnet_classifier_history,\n",
    "                                     large_efficientnet_fine_tune_history,\n",
    "                                     CLASSFIER_NUMBER_OF_EPOCHS,\n",
    "                                     \"Large EfficientNet Training and Validation Accuracy With Fine-Tuning\")\n",
    "scripts.losses_after_fine_tuning(small_efficientnet_classifier_history,\n",
    "                                     small_efficientnet_fine_tune_history,\n",
    "                                     CLASSFIER_NUMBER_OF_EPOCHS,\n",
    "                                     \"Small EfficientNet Training and Validation Loss With Fine-Tuning\")\n",
    "scripts.losses_after_fine_tuning(medium_efficientnet_classifier_history,\n",
    "                                     medium_efficientnet_fine_tune_history,\n",
    "                                     CLASSFIER_NUMBER_OF_EPOCHS,\n",
    "                                     \"Medium EfficientNet Training and Validation Loss With Fine-Tuning\")\n",
    "scripts.losses_after_fine_tuning(large_efficientnet_classifier_history,\n",
    "                                     large_efficientnet_fine_tune_history,\n",
    "                                     CLASSFIER_NUMBER_OF_EPOCHS,\n",
    "                                     \"Large EfficientNet Training and Validation Loss With Fine-Tuning\")"
   ]
  }
 ],
 "metadata": {
  "kernelspec": {
   "display_name": "csc413",
   "language": "python",
   "name": "python3"
  },
  "language_info": {
   "codemirror_mode": {
    "name": "ipython",
    "version": 3
   },
   "file_extension": ".py",
   "mimetype": "text/x-python",
   "name": "python",
   "nbconvert_exporter": "python",
   "pygments_lexer": "ipython3",
   "version": "3.10.9"
  },
  "orig_nbformat": 4
 },
 "nbformat": 4,
 "nbformat_minor": 2
}
