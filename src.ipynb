{
 "cells": [
  {
   "cell_type": "code",
   "execution_count": null,
   "metadata": {},
   "outputs": [],
   "source": [
    "import scripts\n",
    "import tensorflow as tf"
   ]
  },
  {
   "attachments": {},
   "cell_type": "markdown",
   "metadata": {},
   "source": [
    "## Some Hyperparameters"
   ]
  },
  {
   "cell_type": "code",
   "execution_count": null,
   "metadata": {},
   "outputs": [],
   "source": [
    "CLASSIFIER_LEARNING_RATE = 0.0001\n",
    "CLASSFIER_NUMBER_OF_EPOCHES = 10\n",
    "BATCH_SIZE = -1\n",
    "NUMBER_OF_CLASSES = -1\n",
    "IMAGE_SHAPE = (-1, -1, -1)"
   ]
  },
  {
   "attachments": {},
   "cell_type": "markdown",
   "metadata": {},
   "source": [
    "## Base Models"
   ]
  },
  {
   "cell_type": "code",
   "execution_count": null,
   "metadata": {},
   "outputs": [],
   "source": [
    "small_efficientnet_base_model = tf.keras.applications.EfficientNetV2S(include_top=False, input_shape=IMAGE_SHAPE) # expects an input to be in the range [0, 255].\n",
    "medium_efficientnet_base_model = tf.keras.applications.EfficientNetV2M(include_top=False, input_shape=IMAGE_SHAPE)\n",
    "large_efficientnet_base_model = tf.keras.applications.EfficientNetV2L(include_top=False, input_shape=IMAGE_SHAPE)"
   ]
  },
  {
   "attachments": {},
   "cell_type": "markdown",
   "metadata": {},
   "source": [
    "### Freeze Pre-Trained Weights"
   ]
  },
  {
   "cell_type": "code",
   "execution_count": null,
   "metadata": {},
   "outputs": [],
   "source": [
    "small_efficientnet_base_model.trainable = False\n",
    "medium_efficientnet_base_model.trainable = False\n",
    "large_efficientnet_base_model.trainable = False"
   ]
  },
  {
   "attachments": {},
   "cell_type": "markdown",
   "metadata": {},
   "source": [
    "## Full Models"
   ]
  },
  {
   "cell_type": "code",
   "execution_count": null,
   "metadata": {},
   "outputs": [],
   "source": [
    "small_efficientnet = scripts.model(small_efficientnet_base_model, NUMBER_OF_CLASSES, CLASSIFIER_LEARNING_RATE)\n",
    "medium_efficientnet = scripts.model(medium_efficientnet_base_model, NUMBER_OF_CLASSES, CLASSIFIER_LEARNING_RATE)\n",
    "large_efficientnet = scripts.model(large_efficientnet_base_model, NUMBER_OF_CLASSES, CLASSIFIER_LEARNING_RATE)"
   ]
  },
  {
   "attachments": {},
   "cell_type": "markdown",
   "metadata": {},
   "source": [
    "### Number of Trainable Parameters"
   ]
  },
  {
   "cell_type": "code",
   "execution_count": null,
   "metadata": {},
   "outputs": [],
   "source": [
    "print(\"Number of trainable parameters in the samll model = {}.\".format(len(small_efficientnet.trainable_variables)))\n",
    "print(\"Number of trainable parameters in the medium model = {}.\".format(len(medium_efficientnet.trainable_variables)))\n",
    "print(\"Number of trainable parameters in the large model = {}.\".format(len(large_efficientnet.trainable_variables)))"
   ]
  },
  {
   "attachments": {},
   "cell_type": "markdown",
   "metadata": {},
   "source": [
    "## Training the Classifiers"
   ]
  },
  {
   "cell_type": "code",
   "execution_count": null,
   "metadata": {},
   "outputs": [],
   "source": [
    "small_efficientnet_history = small_efficientnet.fit(train_dataset, \n",
    "                                                    epochs=CLASSFIER_NUMBER_OF_EPOCHES,\n",
    "                                                    validation_data=validation_dataset)"
   ]
  },
  {
   "cell_type": "code",
   "execution_count": null,
   "metadata": {},
   "outputs": [],
   "source": [
    "medium_efficientnet_history = medium_efficientnet.fit(train_dataset, \n",
    "                                                      epochs=CLASSFIER_NUMBER_OF_EPOCHES,\n",
    "                                                      validation_data=validation_dataset)"
   ]
  },
  {
   "cell_type": "code",
   "execution_count": null,
   "metadata": {},
   "outputs": [],
   "source": [
    "large_efficientnet_history = large_efficientnet.fit(train_dataset, \n",
    "                                                    epochs=CLASSFIER_NUMBER_OF_EPOCHES,\n",
    "                                                    validation_data=validation_dataset)"
   ]
  },
  {
   "attachments": {},
   "cell_type": "markdown",
   "metadata": {},
   "source": [
    "## Learning Curves"
   ]
  },
  {
   "cell_type": "code",
   "execution_count": null,
   "metadata": {},
   "outputs": [],
   "source": []
  },
  {
   "cell_type": "markdown",
   "metadata": {},
   "source": []
  }
 ],
 "metadata": {
  "kernelspec": {
   "display_name": "csc413",
   "language": "python",
   "name": "python3"
  },
  "language_info": {
   "name": "python",
   "version": "3.10.9"
  },
  "orig_nbformat": 4
 },
 "nbformat": 4,
 "nbformat_minor": 2
}
